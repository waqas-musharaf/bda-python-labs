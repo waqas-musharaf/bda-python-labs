{
 "cells": [
  {
   "cell_type": "markdown",
   "metadata": {},
   "source": [
    "# CMS3504 - Week 02 Lab Exercises Part A: Python Data Structures\n",
    "\n",
    "If you are not familiar with Python, you should navigate through the following examples before attempting the Python.\n",
    "Please note, the examples are not an exhaustive demonstration of lists, tuples and dictionaries.\n",
    "For more detailed explanation, you should consult the followings:\n",
    "\n",
    "`Lists`: https://docs.python.org/3/tutorial/datastructures.html\n",
    "`Tuples`: https://docs.python.org/3/tutorial/datastructures.html#tuples-and-sequences\n",
    "`Dictionaries`: https://docs.python.org/3/tutorial/datastructures.html#dictionaries"
   ]
  },
  {
   "cell_type": "markdown",
   "metadata": {},
   "source": [
    "## Example 1: Python Tuples\n",
    "\n",
    "A. Create a tuple, elements are enclosed in a pair of round brackets ()"
   ]
  },
  {
   "cell_type": "code",
   "execution_count": 1,
   "metadata": {},
   "outputs": [],
   "source": [
    "#declare a tuple\n",
    "tuple_a = (1,2,3,4,5,6,7,8,9,10)\n",
    "\n",
    "#display the values of a tuple\n",
    "print(tuple_a)"
   ]
  },
  {
   "cell_type": "markdown",
   "metadata": {},
   "source": [
    "B. Tuple elements can be accessed using 0-based index."
   ]
  },
  {
   "cell_type": "code",
   "execution_count": 2,
   "metadata": {},
   "outputs": [
    {
     "name": "stdout",
     "output_type": "stream",
     "text": [
      "(2, 4, 6, 8, 10)\n"
     ]
    }
   ],
   "source": [
    "#create a new tuple using all the odd-indexed element from tuple_a\n",
    "even = (tuple_a[1], tuple_a[3], tuple_a[5], tuple_a[7], tuple_a[9])\n",
    "print(even)"
   ]
  },
  {
   "cell_type": "markdown",
   "metadata": {},
   "source": [
    "C. Once created, value of a tuple cannot be modified."
   ]
  },
  {
   "cell_type": "code",
   "execution_count": 3,
   "metadata": {},
   "outputs": [
    {
     "ename": "TypeError",
     "evalue": "'tuple' object does not support item assignment",
     "output_type": "error",
     "traceback": [
      "\u001b[1;31m---------------------------------------------------------------------------\u001b[0m",
      "\u001b[1;31mTypeError\u001b[0m                                 Traceback (most recent call last)",
      "\u001b[1;32m<ipython-input-3-2c72546bea1a>\u001b[0m in \u001b[0;36m<module>\u001b[1;34m\u001b[0m\n\u001b[0;32m      1\u001b[0m \u001b[1;31m#attempt to change the value of a tuple\u001b[0m\u001b[1;33m\u001b[0m\u001b[1;33m\u001b[0m\u001b[1;33m\u001b[0m\u001b[0m\n\u001b[1;32m----> 2\u001b[1;33m \u001b[0meven\u001b[0m\u001b[1;33m[\u001b[0m\u001b[1;36m1\u001b[0m\u001b[1;33m]\u001b[0m \u001b[1;33m=\u001b[0m \u001b[1;36m3\u001b[0m\u001b[1;33m\u001b[0m\u001b[1;33m\u001b[0m\u001b[0m\n\u001b[0m",
      "\u001b[1;31mTypeError\u001b[0m: 'tuple' object does not support item assignment"
     ]
    }
   ],
   "source": [
    "#attempt to change the value of a tuple\n",
    "even[1] = 3"
   ]
  },
  {
   "cell_type": "markdown",
   "metadata": {},
   "source": [
    "D. The function 'len' can be used to query the number of element in a given tuple"
   ]
  },
  {
   "cell_type": "code",
   "execution_count": 4,
   "metadata": {},
   "outputs": [
    {
     "name": "stdout",
     "output_type": "stream",
     "text": [
      "10\n"
     ]
    }
   ],
   "source": [
    "#checking the number of element in a tuple using the function len\n",
    "tuplesize = len(tuple_a)\n",
    "print(tuplesize)"
   ]
  },
  {
   "cell_type": "markdown",
   "metadata": {},
   "source": [
    "E. The function 'type' can be used to check the data type of a variable in python"
   ]
  },
  {
   "cell_type": "code",
   "execution_count": 5,
   "metadata": {},
   "outputs": [
    {
     "data": {
      "text/plain": [
       "tuple"
      ]
     },
     "execution_count": 5,
     "metadata": {},
     "output_type": "execute_result"
    }
   ],
   "source": [
    "#this displays the data type of tuple_a, i.e. tuple\n",
    "type(tuple_a)"
   ]
  },
  {
   "cell_type": "markdown",
   "metadata": {},
   "source": [
    "F. Elements in a tuple can be enumerated using loop. N.B. The code below also serves as an introduction to loops in python. You will use loops in some of the exercise tasks today.\n",
    "\n",
    "For more details, please refer to:\n",
    "`for` loops: https://docs.python.org/3/tutorial/controlflow.html#for-statements\n",
    "`if` statements: https://docs.python.org/3/tutorial/controlflow.html#if-statements"
   ]
  },
  {
   "cell_type": "code",
   "execution_count": 6,
   "metadata": {},
   "outputs": [
    {
     "name": "stdout",
     "output_type": "stream",
     "text": [
      "2\n",
      "4\n",
      "6\n",
      "8\n",
      "10\n"
     ]
    }
   ],
   "source": [
    "#enumerate and display even elements using a for loop, method 1 - in collection based\n",
    "for t in tuple_a :\n",
    "    if t % 2 == 0:\n",
    "        print(t)"
   ]
  },
  {
   "cell_type": "code",
   "execution_count": 7,
   "metadata": {},
   "outputs": [
    {
     "name": "stdout",
     "output_type": "stream",
     "text": [
      "1\n",
      "3\n",
      "5\n",
      "7\n",
      "9\n"
     ]
    }
   ],
   "source": [
    "#enumerate and display odd elements using a while loop, method 2 - index based\n",
    "index = 0\n",
    "while index < len(tuple_a):\n",
    "    if tuple_a[index] % 2 != 0:\n",
    "        print(tuple_a[index])\n",
    "    index = index + 1"
   ]
  },
  {
   "cell_type": "markdown",
   "metadata": {},
   "source": [
    "G. Use the function getsizeof from sys to get the memory size of an object in python. This is useful when we want to know how much memory a data instance or data collection use."
   ]
  },
  {
   "cell_type": "code",
   "execution_count": 8,
   "metadata": {},
   "outputs": [
    {
     "data": {
      "text/plain": [
       "128"
      ]
     },
     "execution_count": 8,
     "metadata": {},
     "output_type": "execute_result"
    }
   ],
   "source": [
    "import sys #first import the sys package\n",
    "\n",
    "#getsizeof returns the memory size of an object in bytes\n",
    "sys.getsizeof(tuple_a)"
   ]
  },
  {
   "cell_type": "markdown",
   "metadata": {},
   "source": [
    "H. A tuple can contain elements of mixed data types."
   ]
  },
  {
   "cell_type": "code",
   "execution_count": 9,
   "metadata": {},
   "outputs": [
    {
     "name": "stdout",
     "output_type": "stream",
     "text": [
      "('BMW', 'X5', 'YC19 BLAH', 4.0, 2019)\n",
      "<class 'str'>\n",
      "<class 'float'>\n"
     ]
    }
   ],
   "source": [
    "#a tuple repesenting a car, maker, model, reg, engine size and year\n",
    "car = (\"BMW\", \"X5\", \"YC19 BLAH\", 4.0, 2019)\n",
    "print(car)\n",
    "print(type(car[0]))\n",
    "print(type(car[3]))"
   ]
  },
  {
   "cell_type": "markdown",
   "metadata": {},
   "source": [
    "## Example 2: Python Lists\n",
    "\n",
    "Python lists are largely similar to tuples. However, lists in Python are mutable, i.e. values can be added/removed/updated after creation."
   ]
  },
  {
   "cell_type": "markdown",
   "metadata": {},
   "source": [
    "A. Create a list, note values inside a list are enclosed by a pair of square brackets []"
   ]
  },
  {
   "cell_type": "code",
   "execution_count": 10,
   "metadata": {},
   "outputs": [
    {
     "name": "stdout",
     "output_type": "stream",
     "text": [
      "[1, 2, 3, 4, 5, 6, 7, 8, 9, 10]\n",
      "[2, 4, 6, 8, 10]\n"
     ]
    }
   ],
   "source": [
    "list_a = [1,2,3,4,5,6,7,8,9,10]\n",
    "print(list_a)\n",
    "\n",
    "even = [list_a[1], list_a[3], list_a[5], list_a[7], list_a[9]]\n",
    "print(even)"
   ]
  },
  {
   "cell_type": "markdown",
   "metadata": {},
   "source": [
    "B. Value can be changed."
   ]
  },
  {
   "cell_type": "code",
   "execution_count": 11,
   "metadata": {},
   "outputs": [
    {
     "name": "stdout",
     "output_type": "stream",
     "text": [
      "[2, 3, 6, 8, 10]\n",
      "[2, 6, 8, 10]\n"
     ]
    }
   ],
   "source": [
    "#attempt to change the value of a tuple\n",
    "even[1] = 3\n",
    "print(even)\n",
    "\n",
    "#remove value 3 from the list\n",
    "even.remove(3)\n",
    "print(even)"
   ]
  },
  {
   "cell_type": "markdown",
   "metadata": {},
   "source": [
    "C. Due to the flexibility of lists, they normally use more memory compared to tuples."
   ]
  },
  {
   "cell_type": "code",
   "execution_count": 12,
   "metadata": {},
   "outputs": [
    {
     "name": "stdout",
     "output_type": "stream",
     "text": [
      "Memory size of tuple_a is  128\n",
      "Memory size of list_a is  144\n"
     ]
    }
   ],
   "source": [
    "import sys\n",
    "\n",
    "tuple_a = (1,2,3,4,5,6,7,8,9,10)\n",
    "list_a = [1,2,3,4,5,6,7,8,9,10]\n",
    "\n",
    "print(\"Memory size of tuple_a is \", sys.getsizeof(tuple_a))\n",
    "print(\"Memory size of list_a is \", sys.getsizeof(list_a))"
   ]
  },
  {
   "cell_type": "markdown",
   "metadata": {},
   "source": [
    "D. Lists can be multidimensional, e.g. a 2D list can be regarded to as a table."
   ]
  },
  {
   "cell_type": "code",
   "execution_count": 13,
   "metadata": {},
   "outputs": [
    {
     "name": "stdout",
     "output_type": "stream",
     "text": [
      "[['BMW', 'X5', 'YC19 BLAH', 4.0, 2019], ['BMW', 'Z4', 'YC18 FOO', 4.2, 2018]]\n",
      "['BMW', 'X5', 'YC19 BLAH', 4.0, 2019]\n",
      "YC19 BLAH\n"
     ]
    }
   ],
   "source": [
    "#the following is a table consist of two cars stored using a 2D list\n",
    "carlist = [[\"BMW\", \"X5\", \"YC19 BLAH\", 4.0, 2019],\n",
    "           [\"BMW\", \"Z4\", \"YC18 FOO\", 4.2, 2018]]\n",
    "print(carlist)\n",
    "\n",
    "#print car one\n",
    "print(carlist[0])\n",
    "\n",
    "#print the reg of car one\n",
    "print(carlist[0][2])"
   ]
  },
  {
   "cell_type": "markdown",
   "metadata": {},
   "source": [
    "## Example 3: Python Dictionaries\n",
    "\n",
    "A dictionary in Python is an implementation of the key-value pair datastore model."
   ]
  },
  {
   "cell_type": "markdown",
   "metadata": {},
   "source": [
    "A. Create a dictionary, note key-value pairs inside a dictionary are enclosed by braces {}"
   ]
  },
  {
   "cell_type": "code",
   "execution_count": 14,
   "metadata": {},
   "outputs": [
    {
     "name": "stdout",
     "output_type": "stream",
     "text": [
      "{'maker': 'BMW', 'model': 'X5', 'reg': 'YC19 BLAH', 'engine': 4.0, 'year': 2015}\n",
      "<class 'dict'>\n"
     ]
    }
   ],
   "source": [
    "#create a dictionary in python\n",
    "cardict = {'maker':'BMW', 'model':'X5', 'reg':'YC19 BLAH', 'engine':4.0, 'year':2015}\n",
    "print(cardict)\n",
    "print(type(cardict))"
   ]
  },
  {
   "cell_type": "markdown",
   "metadata": {},
   "source": [
    "B. Values are accessed via keys rather than integer indices."
   ]
  },
  {
   "cell_type": "code",
   "execution_count": 15,
   "metadata": {},
   "outputs": [
    {
     "name": "stdout",
     "output_type": "stream",
     "text": [
      "BMW\n",
      "2015\n"
     ]
    }
   ],
   "source": [
    "#access the maker of the car\n",
    "print(cardict['maker'])\n",
    "\n",
    "#access the year of manufacture\n",
    "print(cardict['year'])"
   ]
  },
  {
   "cell_type": "markdown",
   "metadata": {},
   "source": [
    "C. The value associated with a key can be a list or other collection type."
   ]
  },
  {
   "cell_type": "code",
   "execution_count": 16,
   "metadata": {},
   "outputs": [
    {
     "name": "stdout",
     "output_type": "stream",
     "text": [
      "{'maker': ['BMW', 'BMW', 'FIAT', 'Honda'], 'model': ['X5', 'Z4', '500X', 'Civic'], 'reg': ['YC19 BLAH', 'YC18 FOO', 'FN16 ZFF', 'DE66 BLU'], 'engine': [4.0, 4.1, 1.6, 2.0], 'year': [2019, 2018, 2016, 2017]}\n"
     ]
    }
   ],
   "source": [
    "# a slightly more complex dictionary\n",
    "# each key is associated with a list of values\n",
    "cars_dict = {\n",
    "    'maker':['BMW', 'BMW', 'FIAT','Honda'],\n",
    "    'model':['X5','Z4','500X','Civic'],\n",
    "    'reg':['YC19 BLAH','YC18 FOO','FN16 ZFF','DE66 BLU'],\n",
    "    'engine':[4.0, 4.1, 1.6, 2.0],\n",
    "    'year': [2019, 2018, 2016, 2017]\n",
    "}\n",
    "\n",
    "print(cars_dict)"
   ]
  },
  {
   "cell_type": "markdown",
   "metadata": {},
   "source": [
    "D. List all the keys and values of a given dictionary."
   ]
  },
  {
   "cell_type": "code",
   "execution_count": 17,
   "metadata": {},
   "outputs": [
    {
     "name": "stdout",
     "output_type": "stream",
     "text": [
      "dict_keys(['maker', 'model', 'reg', 'engine', 'year'])\n",
      "dict_values([['BMW', 'BMW', 'FIAT', 'Honda'], ['X5', 'Z4', '500X', 'Civic'], ['YC19 BLAH', 'YC18 FOO', 'FN16 ZFF', 'DE66 BLU'], [4.0, 4.1, 1.6, 2.0], [2019, 2018, 2016, 2017]])\n"
     ]
    }
   ],
   "source": [
    "#use the keys method to obtain all the keys\n",
    "print(cars_dict.keys())\n",
    "\n",
    "#use the values method to botain all the values\n",
    "#note: values actually returns the values as a 2D list\n",
    "print(cars_dict.values())"
   ]
  },
  {
   "cell_type": "markdown",
   "metadata": {},
   "source": [
    "## Exercises\n",
    "\n",
    "In this exercise, you are required to manually a datastore for the following table the structures introduced here.\n",
    "\n",
    "|Maker | Model | Reg | Engine | Postcode | Year |\n",
    "|---|---|---|---|---|---|\n",
    "|BMW|X5|YC19 BLAH|4.0|HD8|2019|\n",
    "|BMW|Z4|YC18 FOO|4.2|MA1|2018|\n",
    "|FIAT|500X|FN16 ZFF|1.6|DE22|2016|\n",
    "|Honda|Civic|DE66 BLU|2.0|SE10|2017|\n",
    "\n",
    "Table 1.\n"
   ]
  },
  {
   "cell_type": "markdown",
   "metadata": {},
   "source": [
    "__Task 1:__ Use a combination of tuple and list to store the data in the table 1. You should represent each car using a tuple and the collection of cars using a list."
   ]
  },
  {
   "cell_type": "code",
   "execution_count": 18,
   "metadata": {},
   "outputs": [
    {
     "name": "stdout",
     "output_type": "stream",
     "text": [
      "[('BMW', 'X5', 'YC19 BLAH', 4.0, 'HD8', 2019), ('BMW', 'Z4', 'YC18 FOO', 4.2, 'MA1', 2018), ('FIAT', '500X', 'FN16 ZFF', 1.6, 'DE22', 2016), ('Honda', 'Civic', 'DE66 BLU', 2.0, 'SE10', 2017)]\n"
     ]
    }
   ],
   "source": [
    "#creates a list 'cars' containing 4 tuple entries\n",
    "cars = [(\"BMW\", \"X5\", \"YC19 BLAH\", 4.0, \"HD8\", 2019),\n",
    "        (\"BMW\", \"Z4\", \"YC18 FOO\", 4.2, \"MA1\", 2018),\n",
    "        (\"FIAT\", \"500X\", \"FN16 ZFF\", 1.6, \"DE22\", 2016),\n",
    "        (\"Honda\", \"Civic\", \"DE66 BLU\", 2.0, \"SE10\", 2017)]\n",
    "print(cars)"
   ]
  },
  {
   "cell_type": "markdown",
   "metadata": {},
   "source": [
    "__Task 2:__ Use dictionary to create a column-oriented datastore, i.e. each column is associated with a key as labeled in the table heading."
   ]
  },
  {
   "cell_type": "code",
   "execution_count": 19,
   "metadata": {},
   "outputs": [
    {
     "name": "stdout",
     "output_type": "stream",
     "text": [
      "{'maker': ['BMW', 'BMW', 'FIAT', 'Honda'], 'model': ['X5', 'Z4', '500X', 'Civic'], 'reg': ['YC19 BLAH', 'YC18 FOO', 'FN16 ZFF', 'DE66 BLU'], 'engine': [4.0, 4.2, 1.6, 2.0], 'postcode': ['HD8', 'MA1', 'DE22', 'SE10'], 'year': [2019, 2018, 2016, 2017]}\n"
     ]
    }
   ],
   "source": [
    "#creates a dictionary 'cars_dict' with the values for each key being stored in lists\n",
    "cars_dict = {\n",
    "    'maker':['BMW', 'BMW', 'FIAT','Honda'],\n",
    "    'model':['X5', 'Z4', '500X', 'Civic'],\n",
    "    'reg':['YC19 BLAH', 'YC18 FOO', 'FN16 ZFF', 'DE66 BLU'],\n",
    "    'engine':[4.0, 4.2, 1.6, 2.0],\n",
    "    'postcode':[\"HD8\", \"MA1\", \"DE22\", \"SE10\"],\n",
    "    'year':[2019, 2018, 2016, 2017]\n",
    "}\n",
    "print(cars_dict)"
   ]
  },
  {
   "cell_type": "markdown",
   "metadata": {},
   "source": [
    "__Task 3:__ Use a 2D list only to create a datastore for table 1."
   ]
  },
  {
   "cell_type": "code",
   "execution_count": 20,
   "metadata": {},
   "outputs": [
    {
     "name": "stdout",
     "output_type": "stream",
     "text": [
      "[['BMW', 'X5', 'YC19 BLAH', 4.0, 'HD8', 2019], ['BMW', 'Z4', 'YC18 FOO', 4.2, 'MA1', 2018], ['FIAT', '500X', 'FN16 ZFF', 1.6, 'DE22', 2016], ['Honda', 'Civic', 'DE66 BLU', 2.0, 'SE10', 2017]]\n"
     ]
    }
   ],
   "source": [
    "#creates a list 'cars' containing 4 list entries - this is a 2D list\n",
    "cars_list = [[\"BMW\", \"X5\", \"YC19 BLAH\", 4.0, \"HD8\", 2019],\n",
    "        [\"BMW\", \"Z4\", \"YC18 FOO\", 4.2, \"MA1\", 2018],\n",
    "        [\"FIAT\", \"500X\", \"FN16 ZFF\", 1.6, \"DE22\", 2016],\n",
    "        [\"Honda\", \"Civic\", \"DE66 BLU\", 2.0, \"SE10\", 2017]]\n",
    "print(cars_list)"
   ]
  },
  {
   "cell_type": "markdown",
   "metadata": {},
   "source": [
    "__Task 4:__ Write a loop to print the data from each of the datastores created in the previous tasks. Note: each printed line must contain only one car. "
   ]
  },
  {
   "cell_type": "code",
   "execution_count": 21,
   "metadata": {},
   "outputs": [
    {
     "name": "stdout",
     "output_type": "stream",
     "text": [
      "('BMW', 'X5', 'YC19 BLAH', 4.0, 'HD8', 2019)\n",
      "('BMW', 'Z4', 'YC18 FOO', 4.2, 'MA1', 2018)\n",
      "('FIAT', '500X', 'FN16 ZFF', 1.6, 'DE22', 2016)\n",
      "('Honda', 'Civic', 'DE66 BLU', 2.0, 'SE10', 2017)\n",
      "['BMW', 'BMW', 'FIAT', 'Honda']\n",
      "['X5', 'Z4', '500X', 'Civic']\n",
      "['YC19 BLAH', 'YC18 FOO', 'FN16 ZFF', 'DE66 BLU']\n",
      "[4.0, 4.2, 1.6, 2.0]\n",
      "['HD8', 'MA1', 'DE22', 'SE10']\n",
      "[2019, 2018, 2016, 2017]\n",
      "['BMW', 'X5', 'YC19 BLAH', 4.0, 'HD8', 2019]\n",
      "['BMW', 'Z4', 'YC18 FOO', 4.2, 'MA1', 2018]\n",
      "['FIAT', '500X', 'FN16 ZFF', 1.6, 'DE22', 2016]\n",
      "['Honda', 'Civic', 'DE66 BLU', 2.0, 'SE10', 2017]\n"
     ]
    }
   ],
   "source": [
    "#prints each entry from each of the 3 created datastores from Tasks 1-3\n",
    "for i in cars :\n",
    "    print(i)\n",
    "for i in cars_dict.values():\n",
    "    print (i)\n",
    "for i in cars_list:\n",
    "    print(i)"
   ]
  },
  {
   "cell_type": "markdown",
   "metadata": {},
   "source": [
    "__Task 5:__ Use the sys.getsizeof method to evaluate the memory size of the three datastores you just created. Which one uses the least memory and which uses the most?\n",
    "\n",
    "The cars_dict dictionary from Task 2 uses the most memory, whilst the datastores from Tasks 1 and 3 are tied for the least memory usage."
   ]
  },
  {
   "cell_type": "code",
   "execution_count": 22,
   "metadata": {},
   "outputs": [
    {
     "data": {
      "text/plain": [
       "96"
      ]
     },
     "execution_count": 22,
     "metadata": {},
     "output_type": "execute_result"
    }
   ],
   "source": [
    "sys.getsizeof(cars)"
   ]
  },
  {
   "cell_type": "code",
   "execution_count": 23,
   "metadata": {},
   "outputs": [
    {
     "data": {
      "text/plain": [
       "368"
      ]
     },
     "execution_count": 23,
     "metadata": {},
     "output_type": "execute_result"
    }
   ],
   "source": [
    "sys.getsizeof(cars_dict)"
   ]
  },
  {
   "cell_type": "code",
   "execution_count": 24,
   "metadata": {},
   "outputs": [
    {
     "data": {
      "text/plain": [
       "96"
      ]
     },
     "execution_count": 24,
     "metadata": {},
     "output_type": "execute_result"
    }
   ],
   "source": [
    "sys.getsizeof(cars_list)"
   ]
  }
 ],
 "metadata": {
  "kernelspec": {
   "display_name": "Python 3",
   "language": "python",
   "name": "python3"
  },
  "language_info": {
   "codemirror_mode": {
    "name": "ipython",
    "version": 3
   },
   "file_extension": ".py",
   "mimetype": "text/x-python",
   "name": "python",
   "nbconvert_exporter": "python",
   "pygments_lexer": "ipython3",
   "version": "3.7.4"
  }
 },
 "nbformat": 4,
 "nbformat_minor": 2
}
