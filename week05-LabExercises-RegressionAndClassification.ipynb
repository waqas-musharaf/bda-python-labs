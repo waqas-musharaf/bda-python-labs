{
 "cells": [
  {
   "cell_type": "markdown",
   "metadata": {},
   "source": [
    "# Week 05 - Lab Exercises: Regression and Classification\n",
    "\n",
    "This week's exercises use the following datasets:\n",
    "\n",
    "- adult data\n",
    "- iris data\n",
    "- wine quality data\n",
    "\n",
    "Please ensure you have these datasets available. The were included in week 04's lab exercise package.\n",
    "\n",
    "Before working on this lab exercises, you should first walk through the Week 05 Examples notebook.\n"
   ]
  },
  {
   "cell_type": "markdown",
   "metadata": {},
   "source": [
    "# Preparation\n",
    "\n",
    "Please ensure all the required packages and data set are imported before proceeding to the tasks."
   ]
  },
  {
   "cell_type": "code",
   "execution_count": 1,
   "metadata": {},
   "outputs": [],
   "source": [
    "#import required packages in this cell\n",
    "import pandas as pd\n",
    "import numpy as np\n",
    "from matplotlib import pyplot as plt\n",
    "from mpl_toolkits.mplot3d import Axes3D"
   ]
  },
  {
   "cell_type": "code",
   "execution_count": 2,
   "metadata": {},
   "outputs": [],
   "source": [
    "#import data in this cell\n",
    "adult_data = pd.read_csv(r'C:\\Users\\Waqas\\bdadata\\adult\\adult_full.data')\n",
    "iris_data = pd.read_csv(r'C:\\Users\\Waqas\\bdadata\\iris\\iris.data')\n",
    "wine_quality_white = pd.read_csv(r'C:\\Users\\Waqas\\bdadata\\wine-quality\\winequality-white.csv', delimiter=';')\n",
    "wine_quality_red = pd.read_csv(r'C:\\Users\\Waqas\\bdadata\\wine-quality\\winequality-red.csv', delimiter=';')"
   ]
  },
  {
   "cell_type": "markdown",
   "metadata": {},
   "source": [
    "## Task 1: Adult Data - Sex and Salary\n",
    "\n",
    "Based on the following code from Example 3, calculate the Chi square of sex/salary using a set of modified expected values.\n",
    "\n",
    "The modified expected values should be based on the assumption:\n",
    "- Male and Female should each be 50% of the population\n",
    "- The percentage of <=50K is 70% and >50K is 30%\n",
    "\n",
    "How does the Chi square value change compared to the one in Example 3?\n",
    "\n",
    "The Chi square value is much larger than in Ex3, almost 3x as large."
   ]
  },
  {
   "cell_type": "code",
   "execution_count": 3,
   "metadata": {},
   "outputs": [
    {
     "name": "stdout",
     "output_type": "stream",
     "text": [
      "Chi square is 7408.823432603866 p-value is 0.0\n"
     ]
    }
   ],
   "source": [
    "#import chisquare from the stats library from scipy\n",
    "from scipy.stats import chisquare\n",
    "\n",
    "fd = pd.crosstab(adult_data.loc[:,'sex'],adult_data.loc[:,'salary'])\n",
    "\n",
    "#TODO: Compute the expected values based on the assumption male/female is 50%/50%, and <=50K/>50K is 70%/30%\n",
    "\n",
    "# M, <=50K = 0.5*0.7*48842 = 17094.7\n",
    "# M, >50K = 0.5*0.3*48842 = 7326.3\n",
    "# F, <=50K = 0.5*0.7*48842 = 17094.7\n",
    "# F, >50K = 0.5*0.3*48842 = 7326.3\n",
    "\n",
    "#The expected values are calculated based on the formula in the lecture slide\n",
    "expected = np.array([[17094.7,7326.3],[17094.7,7326.3]])\n",
    "\n",
    "#N.B. we used flatten here so that the chisquare method treats the entire cross table as one data series\n",
    "# By default, chisquare treats each column as a series\n",
    "stats, p = chisquare(fd.to_numpy().flatten(), f_exp=expected.flatten(), ddof=1)\n",
    "\n",
    "print('Chi square is', stats, 'p-value is', p)"
   ]
  },
  {
   "cell_type": "markdown",
   "metadata": {},
   "source": [
    "## Task 2: Iris Data - Error Evaluation of Multiple Regression\n",
    "\n",
    "Using the multiple linear regression example from Example 2 as the basis, calculate the Sum Square Error, Mean Square Error and Root Mean Square Error."
   ]
  },
  {
   "cell_type": "code",
   "execution_count": 4,
   "metadata": {},
   "outputs": [
    {
     "name": "stdout",
     "output_type": "stream",
     "text": [
      "The coefficient is  [-0.21027133  0.22877721  0.52608818]\n",
      "SSE= 5.376166371766756 MSE= 0.0358411091451117 RMS= 0.18931748240749374\n"
     ]
    }
   ],
   "source": [
    "#import the linear_model library from sklearn\n",
    "from sklearn import linear_model\n",
    "\n",
    "linreg = linear_model.LinearRegression()\n",
    "\n",
    "#Multiple regression: (sepal length, sepal width, pedal length) -> pedal width\n",
    "linreg.fit(iris_data.loc[:,['sepal_length','sepal_width','pedal_length']], iris_data.pedal_width)\n",
    "\n",
    "print('The coefficient is ', linreg.coef_)\n",
    "\n",
    "#Predict pedal width from 'sepal length', 'sepal width' and 'pedal length'\n",
    "predicted_width = linreg.predict(iris_data.loc[:,['sepal_length','sepal_width','pedal_length']])\n",
    "\n",
    "#TODO: Calculate the SSE, MSE and RMSE of this linear regression\n",
    "\n",
    "#calculate the sum square error (SSE), mean square error (MSE) and the root mean square error (RMS)\n",
    "sse = np.sum(np.square(predicted_width - iris_data.pedal_width))\n",
    "mse = np.mean(np.square(predicted_width - iris_data.pedal_width))\n",
    "rms = np.sqrt(mse)\n",
    "\n",
    "print('SSE=', sse, 'MSE=', mse, 'RMS=', rms)"
   ]
  },
  {
   "cell_type": "markdown",
   "metadata": {},
   "source": [
    "## Task 3: Iris Data - Evaluate K-Means Classification Accuracy\n",
    "\n",
    "The code fragment below uses the K-means method to create 3 clusters of the iris data.\n",
    "\n",
    "You task here is to evaluate its accuracy in classifying the three species of iris data, setosa, virginica and versicolor.\n",
    "\n",
    "You may simply present the accuracy in percentage, e.g. setosa 95% means 95% of the setoas are correctly classified."
   ]
  },
  {
   "cell_type": "code",
   "execution_count": 5,
   "metadata": {},
   "outputs": [
    {
     "name": "stdout",
     "output_type": "stream",
     "text": [
      "              precision    recall  f1-score   support\n",
      "\n",
      "           0       0.96      0.77      0.86        62\n",
      "           1       1.00      1.00      1.00        50\n",
      "           2       0.72      0.95      0.82        38\n",
      "\n",
      "    accuracy                           0.89       150\n",
      "   macro avg       0.89      0.91      0.89       150\n",
      "weighted avg       0.91      0.89      0.89       150\n",
      "\n"
     ]
    }
   ],
   "source": [
    "#import kmeans from the cluster library from sklearn\n",
    "#import classification_report from the metrics library from sklearn\n",
    "from sklearn.cluster import KMeans\n",
    "from sklearn.metrics import classification_report\n",
    "\n",
    "#create a new dataframe populated by the 0-4th columns of iris_data\n",
    "iris_features = iris_data.iloc[:,0:4]\n",
    "\n",
    "#create a kmeans model with 3 clusters\n",
    "kmeans = KMeans(n_clusters=3, random_state=0)\n",
    "#fit the kmeans model with the iris_features dataframe\n",
    "kmeans.fit(iris_features)\n",
    "\n",
    "#assign the predicted (from kmeans) and actual labels\n",
    "#replace the iris species names with a numerical key\n",
    "y_pred = kmeans.labels_\n",
    "y_true = iris_data.iloc[:,4].replace({'Iris-versicolor': 0, 'Iris-setosa':1, 'Iris-virginica': 2})\n",
    "\n",
    "print(classification_report(y_pred, y_true))"
   ]
  },
  {
   "cell_type": "markdown",
   "metadata": {},
   "source": [
    "## Task 4: Wine Quality Data - Regression and Classification"
   ]
  },
  {
   "cell_type": "markdown",
   "metadata": {},
   "source": [
    "### Task 4a: Examine variable dependencies\n",
    "\n",
    "Use Pearson's linear correlation to examine all pair-wise variable dependencies of the wine quality data."
   ]
  },
  {
   "cell_type": "code",
   "execution_count": 6,
   "metadata": {},
   "outputs": [],
   "source": [
    "#add a 'type' column to both white and red datasets, populate with respective type\n",
    "wine_quality_white[\"type\"] = 'white'\n",
    "wine_quality_red[\"type\"] = 'red'\n",
    "\n",
    "#merge the wine_quality_white and wine_quality_red datasets into a singular dataset\n",
    "frames = [wine_quality_white, wine_quality_red]\n",
    "wine_quality = pd.concat(frames)"
   ]
  },
  {
   "cell_type": "code",
   "execution_count": 7,
   "metadata": {},
   "outputs": [
    {
     "data": {
      "text/html": [
       "<div>\n",
       "<style scoped>\n",
       "    .dataframe tbody tr th:only-of-type {\n",
       "        vertical-align: middle;\n",
       "    }\n",
       "\n",
       "    .dataframe tbody tr th {\n",
       "        vertical-align: top;\n",
       "    }\n",
       "\n",
       "    .dataframe thead th {\n",
       "        text-align: right;\n",
       "    }\n",
       "</style>\n",
       "<table border=\"1\" class=\"dataframe\">\n",
       "  <thead>\n",
       "    <tr style=\"text-align: right;\">\n",
       "      <th></th>\n",
       "      <th>fixed acidity</th>\n",
       "      <th>volatile acidity</th>\n",
       "      <th>citric acid</th>\n",
       "      <th>residual sugar</th>\n",
       "      <th>chlorides</th>\n",
       "      <th>free sulfur dioxide</th>\n",
       "      <th>total sulfur dioxide</th>\n",
       "      <th>density</th>\n",
       "      <th>pH</th>\n",
       "      <th>sulphates</th>\n",
       "      <th>alcohol</th>\n",
       "      <th>quality</th>\n",
       "    </tr>\n",
       "  </thead>\n",
       "  <tbody>\n",
       "    <tr>\n",
       "      <td>fixed acidity</td>\n",
       "      <td>1.000000</td>\n",
       "      <td>0.219008</td>\n",
       "      <td>0.324436</td>\n",
       "      <td>-0.111981</td>\n",
       "      <td>0.298195</td>\n",
       "      <td>-0.282735</td>\n",
       "      <td>-0.329054</td>\n",
       "      <td>0.458910</td>\n",
       "      <td>-0.252700</td>\n",
       "      <td>0.299568</td>\n",
       "      <td>-0.095452</td>\n",
       "      <td>-0.076743</td>\n",
       "    </tr>\n",
       "    <tr>\n",
       "      <td>volatile acidity</td>\n",
       "      <td>0.219008</td>\n",
       "      <td>1.000000</td>\n",
       "      <td>-0.377981</td>\n",
       "      <td>-0.196011</td>\n",
       "      <td>0.377124</td>\n",
       "      <td>-0.352557</td>\n",
       "      <td>-0.414476</td>\n",
       "      <td>0.271296</td>\n",
       "      <td>0.261454</td>\n",
       "      <td>0.225984</td>\n",
       "      <td>-0.037640</td>\n",
       "      <td>-0.265699</td>\n",
       "    </tr>\n",
       "    <tr>\n",
       "      <td>citric acid</td>\n",
       "      <td>0.324436</td>\n",
       "      <td>-0.377981</td>\n",
       "      <td>1.000000</td>\n",
       "      <td>0.142451</td>\n",
       "      <td>0.038998</td>\n",
       "      <td>0.133126</td>\n",
       "      <td>0.195242</td>\n",
       "      <td>0.096154</td>\n",
       "      <td>-0.329808</td>\n",
       "      <td>0.056197</td>\n",
       "      <td>-0.010493</td>\n",
       "      <td>0.085532</td>\n",
       "    </tr>\n",
       "    <tr>\n",
       "      <td>residual sugar</td>\n",
       "      <td>-0.111981</td>\n",
       "      <td>-0.196011</td>\n",
       "      <td>0.142451</td>\n",
       "      <td>1.000000</td>\n",
       "      <td>-0.128940</td>\n",
       "      <td>0.402871</td>\n",
       "      <td>0.495482</td>\n",
       "      <td>0.552517</td>\n",
       "      <td>-0.267320</td>\n",
       "      <td>-0.185927</td>\n",
       "      <td>-0.359415</td>\n",
       "      <td>-0.036980</td>\n",
       "    </tr>\n",
       "    <tr>\n",
       "      <td>chlorides</td>\n",
       "      <td>0.298195</td>\n",
       "      <td>0.377124</td>\n",
       "      <td>0.038998</td>\n",
       "      <td>-0.128940</td>\n",
       "      <td>1.000000</td>\n",
       "      <td>-0.195045</td>\n",
       "      <td>-0.279630</td>\n",
       "      <td>0.362615</td>\n",
       "      <td>0.044708</td>\n",
       "      <td>0.395593</td>\n",
       "      <td>-0.256916</td>\n",
       "      <td>-0.200666</td>\n",
       "    </tr>\n",
       "    <tr>\n",
       "      <td>free sulfur dioxide</td>\n",
       "      <td>-0.282735</td>\n",
       "      <td>-0.352557</td>\n",
       "      <td>0.133126</td>\n",
       "      <td>0.402871</td>\n",
       "      <td>-0.195045</td>\n",
       "      <td>1.000000</td>\n",
       "      <td>0.720934</td>\n",
       "      <td>0.025717</td>\n",
       "      <td>-0.145854</td>\n",
       "      <td>-0.188457</td>\n",
       "      <td>-0.179838</td>\n",
       "      <td>0.055463</td>\n",
       "    </tr>\n",
       "    <tr>\n",
       "      <td>total sulfur dioxide</td>\n",
       "      <td>-0.329054</td>\n",
       "      <td>-0.414476</td>\n",
       "      <td>0.195242</td>\n",
       "      <td>0.495482</td>\n",
       "      <td>-0.279630</td>\n",
       "      <td>0.720934</td>\n",
       "      <td>1.000000</td>\n",
       "      <td>0.032395</td>\n",
       "      <td>-0.238413</td>\n",
       "      <td>-0.275727</td>\n",
       "      <td>-0.265740</td>\n",
       "      <td>-0.041385</td>\n",
       "    </tr>\n",
       "    <tr>\n",
       "      <td>density</td>\n",
       "      <td>0.458910</td>\n",
       "      <td>0.271296</td>\n",
       "      <td>0.096154</td>\n",
       "      <td>0.552517</td>\n",
       "      <td>0.362615</td>\n",
       "      <td>0.025717</td>\n",
       "      <td>0.032395</td>\n",
       "      <td>1.000000</td>\n",
       "      <td>0.011686</td>\n",
       "      <td>0.259478</td>\n",
       "      <td>-0.686745</td>\n",
       "      <td>-0.305858</td>\n",
       "    </tr>\n",
       "    <tr>\n",
       "      <td>pH</td>\n",
       "      <td>-0.252700</td>\n",
       "      <td>0.261454</td>\n",
       "      <td>-0.329808</td>\n",
       "      <td>-0.267320</td>\n",
       "      <td>0.044708</td>\n",
       "      <td>-0.145854</td>\n",
       "      <td>-0.238413</td>\n",
       "      <td>0.011686</td>\n",
       "      <td>1.000000</td>\n",
       "      <td>0.192123</td>\n",
       "      <td>0.121248</td>\n",
       "      <td>0.019506</td>\n",
       "    </tr>\n",
       "    <tr>\n",
       "      <td>sulphates</td>\n",
       "      <td>0.299568</td>\n",
       "      <td>0.225984</td>\n",
       "      <td>0.056197</td>\n",
       "      <td>-0.185927</td>\n",
       "      <td>0.395593</td>\n",
       "      <td>-0.188457</td>\n",
       "      <td>-0.275727</td>\n",
       "      <td>0.259478</td>\n",
       "      <td>0.192123</td>\n",
       "      <td>1.000000</td>\n",
       "      <td>-0.003029</td>\n",
       "      <td>0.038485</td>\n",
       "    </tr>\n",
       "    <tr>\n",
       "      <td>alcohol</td>\n",
       "      <td>-0.095452</td>\n",
       "      <td>-0.037640</td>\n",
       "      <td>-0.010493</td>\n",
       "      <td>-0.359415</td>\n",
       "      <td>-0.256916</td>\n",
       "      <td>-0.179838</td>\n",
       "      <td>-0.265740</td>\n",
       "      <td>-0.686745</td>\n",
       "      <td>0.121248</td>\n",
       "      <td>-0.003029</td>\n",
       "      <td>1.000000</td>\n",
       "      <td>0.444319</td>\n",
       "    </tr>\n",
       "    <tr>\n",
       "      <td>quality</td>\n",
       "      <td>-0.076743</td>\n",
       "      <td>-0.265699</td>\n",
       "      <td>0.085532</td>\n",
       "      <td>-0.036980</td>\n",
       "      <td>-0.200666</td>\n",
       "      <td>0.055463</td>\n",
       "      <td>-0.041385</td>\n",
       "      <td>-0.305858</td>\n",
       "      <td>0.019506</td>\n",
       "      <td>0.038485</td>\n",
       "      <td>0.444319</td>\n",
       "      <td>1.000000</td>\n",
       "    </tr>\n",
       "  </tbody>\n",
       "</table>\n",
       "</div>"
      ],
      "text/plain": [
       "                      fixed acidity  volatile acidity  citric acid  \\\n",
       "fixed acidity              1.000000          0.219008     0.324436   \n",
       "volatile acidity           0.219008          1.000000    -0.377981   \n",
       "citric acid                0.324436         -0.377981     1.000000   \n",
       "residual sugar            -0.111981         -0.196011     0.142451   \n",
       "chlorides                  0.298195          0.377124     0.038998   \n",
       "free sulfur dioxide       -0.282735         -0.352557     0.133126   \n",
       "total sulfur dioxide      -0.329054         -0.414476     0.195242   \n",
       "density                    0.458910          0.271296     0.096154   \n",
       "pH                        -0.252700          0.261454    -0.329808   \n",
       "sulphates                  0.299568          0.225984     0.056197   \n",
       "alcohol                   -0.095452         -0.037640    -0.010493   \n",
       "quality                   -0.076743         -0.265699     0.085532   \n",
       "\n",
       "                      residual sugar  chlorides  free sulfur dioxide  \\\n",
       "fixed acidity              -0.111981   0.298195            -0.282735   \n",
       "volatile acidity           -0.196011   0.377124            -0.352557   \n",
       "citric acid                 0.142451   0.038998             0.133126   \n",
       "residual sugar              1.000000  -0.128940             0.402871   \n",
       "chlorides                  -0.128940   1.000000            -0.195045   \n",
       "free sulfur dioxide         0.402871  -0.195045             1.000000   \n",
       "total sulfur dioxide        0.495482  -0.279630             0.720934   \n",
       "density                     0.552517   0.362615             0.025717   \n",
       "pH                         -0.267320   0.044708            -0.145854   \n",
       "sulphates                  -0.185927   0.395593            -0.188457   \n",
       "alcohol                    -0.359415  -0.256916            -0.179838   \n",
       "quality                    -0.036980  -0.200666             0.055463   \n",
       "\n",
       "                      total sulfur dioxide   density        pH  sulphates  \\\n",
       "fixed acidity                    -0.329054  0.458910 -0.252700   0.299568   \n",
       "volatile acidity                 -0.414476  0.271296  0.261454   0.225984   \n",
       "citric acid                       0.195242  0.096154 -0.329808   0.056197   \n",
       "residual sugar                    0.495482  0.552517 -0.267320  -0.185927   \n",
       "chlorides                        -0.279630  0.362615  0.044708   0.395593   \n",
       "free sulfur dioxide               0.720934  0.025717 -0.145854  -0.188457   \n",
       "total sulfur dioxide              1.000000  0.032395 -0.238413  -0.275727   \n",
       "density                           0.032395  1.000000  0.011686   0.259478   \n",
       "pH                               -0.238413  0.011686  1.000000   0.192123   \n",
       "sulphates                        -0.275727  0.259478  0.192123   1.000000   \n",
       "alcohol                          -0.265740 -0.686745  0.121248  -0.003029   \n",
       "quality                          -0.041385 -0.305858  0.019506   0.038485   \n",
       "\n",
       "                       alcohol   quality  \n",
       "fixed acidity        -0.095452 -0.076743  \n",
       "volatile acidity     -0.037640 -0.265699  \n",
       "citric acid          -0.010493  0.085532  \n",
       "residual sugar       -0.359415 -0.036980  \n",
       "chlorides            -0.256916 -0.200666  \n",
       "free sulfur dioxide  -0.179838  0.055463  \n",
       "total sulfur dioxide -0.265740 -0.041385  \n",
       "density              -0.686745 -0.305858  \n",
       "pH                    0.121248  0.019506  \n",
       "sulphates            -0.003029  0.038485  \n",
       "alcohol               1.000000  0.444319  \n",
       "quality               0.444319  1.000000  "
      ]
     },
     "execution_count": 7,
     "metadata": {},
     "output_type": "execute_result"
    }
   ],
   "source": [
    "#print Pearson's linear correlation\n",
    "wine_quality.corr(method='pearson')"
   ]
  },
  {
   "cell_type": "markdown",
   "metadata": {},
   "source": [
    "### Task 4b: Apply Linear regression\n",
    "\n",
    "From the results of task 4a, \n",
    "\n",
    "- select a pair of variables that have strong correlation, i.e. absolute value greater than 0.7, and use linear regression to model their relationship. \n",
    "- select a pair of variables that have weak correlation, i.e. absolute value less than 0.5, and use linear regression to model their relationship\n",
    "\n",
    "Additionally, use visualisation to show the result of the linear regression and its RMS error bounds."
   ]
  },
  {
   "cell_type": "code",
   "execution_count": 8,
   "metadata": {},
   "outputs": [
    {
     "data": {
      "text/plain": [
       "Text(0, 0.5, 'total sulfur dioxide')"
      ]
     },
     "execution_count": 8,
     "metadata": {},
     "output_type": "execute_result"
    },
    {
     "data": {
      "image/png": "[encoded data removed]",
      "text/plain": [
       "<Figure size 432x288 with 1 Axes>"
      ]
     },
     "metadata": {
      "needs_background": "light"
     },
     "output_type": "display_data"
    }
   ],
   "source": [
    "#Strong variable pair in this cell\n",
    "\n",
    "#selected variables: ['free sulphur dioxide'] and ['total sulphur dioxide'] : abs(correlation) = 0.720934\n",
    "\n",
    "#import the linear_model library from sklearn\n",
    "from sklearn import linear_model\n",
    "\n",
    "#create a new linear regression model\n",
    "linreg = linear_model.LinearRegression()\n",
    "#fit the model with the selected variables and predict the second variable\n",
    "linreg.fit(wine_quality.iloc[:,5].to_numpy().reshape(-1,1), wine_quality.iloc[:,6])\n",
    "predicted_tsd = linreg.predict(wine_quality.iloc[:,5].to_numpy().reshape(-1,1))\n",
    "\n",
    "#calculate the sum square error (SSE), mean square error (MSE) and the root mean square error (RMS)\n",
    "sse = np.sum(np.square(predicted_tsd - wine_quality.iloc[:,6]))\n",
    "mse = np.mean(np.square(predicted_tsd - wine_quality.iloc[:,6]))\n",
    "rms = np.sqrt(mse)\n",
    "\n",
    "#use matplotlib to create a figure\n",
    "fig = plt.figure()\n",
    "#add a 1x1x1 subplot to the figure\n",
    "axis = fig.add_subplot(111)\n",
    "\n",
    "#plot variable 1 by variable 2\n",
    "axis.scatter(wine_quality.iloc[:,5], wine_quality.iloc[:,6])\n",
    "#plot variable 1 by predicted variable 2\n",
    "axis.plot(wine_quality.iloc[:,5], predicted_tsd, color='b')\n",
    "\n",
    "#Visualise the bounds of one RMS\n",
    "axis.plot(wine_quality.iloc[:,5], predicted_tsd+rms, '--', color='r')\n",
    "axis.plot(wine_quality.iloc[:,5], predicted_tsd-rms, '--', color='r')\n",
    "\n",
    "#Visualise the bounds of two RMS\n",
    "axis.plot(wine_quality.iloc[:,5], predicted_tsd+rms*2.0, '--', color='g')\n",
    "axis.plot(wine_quality.iloc[:,5], predicted_tsd-rms*2.0, '--', color='g')\n",
    "\n",
    "#set the labels for the x and y axes\n",
    "axis.set_xlabel('free sulfur dioxide')\n",
    "axis.set_ylabel('total sulfur dioxide')"
   ]
  },
  {
   "cell_type": "code",
   "execution_count": 9,
   "metadata": {},
   "outputs": [
    {
     "data": {
      "text/plain": [
       "Text(0, 0.5, 'citricacid')"
      ]
     },
     "execution_count": 9,
     "metadata": {},
     "output_type": "execute_result"
    },
    {
     "data": {
      "image/png": "[encoded data removed]",
      "text/plain": [
       "<Figure size 432x288 with 1 Axes>"
      ]
     },
     "metadata": {
      "needs_background": "light"
     },
     "output_type": "display_data"
    }
   ],
   "source": [
    "#Weak variable pair in this cell\n",
    "\n",
    "#selected variables: ['alcohol'] and ['citric acid'] : abs(correlation) = 0.010493\n",
    "\n",
    "#import the linear_model library from sklearn\n",
    "from sklearn import linear_model\n",
    "\n",
    "#create a new linear regression model\n",
    "linreg = linear_model.LinearRegression()\n",
    "#fit the model with the selected variables and predict the second variable\n",
    "linreg.fit(wine_quality.iloc[:,10].to_numpy().reshape(-1,1), wine_quality.iloc[:,2])\n",
    "predicted_citricacid = linreg.predict(wine_quality.iloc[:,10].to_numpy().reshape(-1,1))\n",
    "\n",
    "#calculate the sum square error (SSE), mean square error (MSE) and the root mean square error (RMS)\n",
    "sse = np.sum(np.square(predicted_citricacid - wine_quality.iloc[:,2]))\n",
    "mse = np.mean(np.square(predicted_citricacid - wine_quality.iloc[:,2]))\n",
    "rms = np.sqrt(mse)\n",
    "\n",
    "#use matplotlib to create a figure\n",
    "fig = plt.figure()\n",
    "#add a 1x1x1 subplot to the figure\n",
    "axis = fig.add_subplot(111)\n",
    "\n",
    "#plot variable 1 by variable 2\n",
    "axis.scatter(wine_quality.iloc[:,10], wine_quality.iloc[:,2])\n",
    "#plot variable 1 by predicted variable 2\n",
    "axis.plot(wine_quality.iloc[:,10], predicted_citricacid, color='b')\n",
    "\n",
    "#Visualise the bounds of one RMS\n",
    "axis.plot(wine_quality.iloc[:,10], predicted_citricacid+rms, '--', color='r')\n",
    "axis.plot(wine_quality.iloc[:,10], predicted_citricacid-rms, '--', color='r')\n",
    "\n",
    "#Visualise the bounds of two RMS\n",
    "axis.plot(wine_quality.iloc[:,10], predicted_citricacid+rms*2.0, '--', color='g')\n",
    "axis.plot(wine_quality.iloc[:,10], predicted_citricacid-rms*2.0, '--', color='g')\n",
    "\n",
    "#set the labels for the x and y axes\n",
    "axis.set_xlabel('alcohol')\n",
    "axis.set_ylabel('citricacid')"
   ]
  },
  {
   "cell_type": "markdown",
   "metadata": {},
   "source": [
    "### Task 4c: Apply logistic regression\n",
    "\n",
    "Use logistic regression to classify the wine data into red and white, and show the accuracy of the classifier. Please, note you can select any combination of attributes as input features. You may also keep experimenting with different feature sets as input to see their effect on the classification accuracy."
   ]
  },
  {
   "cell_type": "code",
   "execution_count": 10,
   "metadata": {},
   "outputs": [
    {
     "name": "stdout",
     "output_type": "stream",
     "text": [
      "Logistic Regression Classifier Accuracy: 0.9281206710789596\n"
     ]
    }
   ],
   "source": [
    "#import LogisticRegression from the linear_model library from sklearn\n",
    "from sklearn.linear_model import LogisticRegression\n",
    "\n",
    "#set the type column as category type to convert into integer later\n",
    "wine_quality['typeid'] = wine_quality.type.astype('category')\n",
    "\n",
    "#convert the selected attributes from wine_quality into a numpy array\n",
    "features = wine_quality.loc[:,['residual sugar','free sulfur dioxide', 'total sulfur dioxide']].to_numpy()\n",
    "#retrieve the integer values of the type labels\n",
    "labels = wine_quality.typeid.cat.codes\n",
    "\n",
    "#create a logistic regression instance using the lbfgs solver\n",
    "classifier = LogisticRegression(random_state=0, solver='lbfgs',multi_class='auto')\n",
    "#train the classifier\n",
    "classifier.fit(features, labels)\n",
    "#print the accuracy score\n",
    "print(\"Logistic Regression Classifier Accuracy:\",classifier.score(features, labels))"
   ]
  },
  {
   "cell_type": "markdown",
   "metadata": {},
   "source": [
    "### Task 4d: Apply K-means clustering\n",
    "\n",
    "Use the K-means method to create clusters from the wine data based on the quality atribute. Similar to Task 4c, you may use all or subset of attributes as input features.\n",
    "\n",
    "Show the visualisation of K-means using Scatter plot (if no. of features is 3 or fewer), parallel-coordiantes (if no. of features is 4 or greater) "
   ]
  },
  {
   "cell_type": "code",
   "execution_count": 11,
   "metadata": {},
   "outputs": [
    {
     "data": {
      "image/png": "[encoded data removed]",
      "text/plain": [
       "<Figure size 432x288 with 1 Axes>"
      ]
     },
     "metadata": {
      "needs_background": "light"
     },
     "output_type": "display_data"
    }
   ],
   "source": [
    "#import kmeans from the cluster library from sklearn\n",
    "from sklearn.cluster import KMeans\n",
    "\n",
    "#set the quality column as category type to convert into integer later\n",
    "wine_quality['qualityid'] = wine_quality.quality.astype('category')\n",
    "\n",
    "#convert the selected attributes from wine_quality into a numpy array\n",
    "features = wine_quality.loc[:,['chlorides','volatile acidity']].to_numpy()\n",
    "#retrieve the integer values of the quality labels\n",
    "labels = wine_quality.qualityid.cat.codes\n",
    "\n",
    "#create a kmeans model with 2 clusters\n",
    "kmeans = KMeans(n_clusters=2, random_state=0)\n",
    "#fit the kmeans model with the features and labels\n",
    "kmeans.fit(features, labels)\n",
    "\n",
    "#use matplotlib to create a figure\n",
    "fig = plt.figure()\n",
    "#add a 1x1x1 subplot to the figure\n",
    "#projection='3d' dentoes the axis created will be for 3D plotting\n",
    "axis = fig.add_subplot(111, projection='3d')\n",
    "\n",
    "#set the labels for the x,y and z axes\n",
    "axis.set_xlabel('chlorides')\n",
    "axis.set_ylabel('volatile acidity')\n",
    "axis.set_zlabel('quality')\n",
    "\n",
    "#create and show a 3D scatter plot on the axis for the selected attributes of the wine_quality data\n",
    "axis.scatter(wine_quality.chlorides, wine_quality['volatile acidity'], wine_quality.quality)\n",
    "plt.show()"
   ]
  }
 ],
 "metadata": {
  "kernelspec": {
   "display_name": "Python 3",
   "language": "python",
   "name": "python3"
  },
  "language_info": {
   "codemirror_mode": {
    "name": "ipython",
    "version": 3
   },
   "file_extension": ".py",
   "mimetype": "text/x-python",
   "name": "python",
   "nbconvert_exporter": "python",
   "pygments_lexer": "ipython3",
   "version": "3.7.4"
  }
 },
 "nbformat": 4,
 "nbformat_minor": 2
}
